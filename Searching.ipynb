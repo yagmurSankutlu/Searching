{
 "cells": [
  {
   "cell_type": "markdown",
   "id": "478bcba4",
   "metadata": {},
   "source": [
    "# Searching        "
   ]
  },
  {
   "cell_type": "code",
   "execution_count": 31,
   "id": "363c071f",
   "metadata": {},
   "outputs": [
    {
     "name": "stdout",
     "output_type": "stream",
     "text": [
      "[3, 7, 2, 9, 11, 17, 6, 1]\n",
      "[2, 7, 3, 9, 11, 17, 6, 1]\n",
      "[2, 7, 3, 9, 11, 17, 6, 1]\n",
      "[2, 7, 3, 9, 11, 17, 6, 1]\n",
      "[2, 7, 3, 9, 11, 17, 6, 1]\n",
      "[2, 7, 3, 9, 11, 17, 6, 1]\n",
      "[1, 7, 3, 9, 11, 17, 6, 2]\n",
      "[1, 3, 7, 9, 11, 17, 6, 2]\n",
      "[1, 3, 7, 9, 11, 17, 6, 2]\n",
      "[1, 3, 7, 9, 11, 17, 6, 2]\n",
      "[1, 3, 7, 9, 11, 17, 6, 2]\n",
      "[1, 3, 7, 9, 11, 17, 6, 2]\n",
      "[1, 2, 7, 9, 11, 17, 6, 3]\n",
      "[1, 2, 7, 9, 11, 17, 6, 3]\n",
      "[1, 2, 7, 9, 11, 17, 6, 3]\n",
      "[1, 2, 7, 9, 11, 17, 6, 3]\n",
      "[1, 2, 6, 9, 11, 17, 7, 3]\n",
      "[1, 2, 3, 9, 11, 17, 7, 6]\n",
      "[1, 2, 3, 9, 11, 17, 7, 6]\n",
      "[1, 2, 3, 9, 11, 17, 7, 6]\n",
      "[1, 2, 3, 7, 11, 17, 9, 6]\n",
      "[1, 2, 3, 6, 11, 17, 9, 7]\n",
      "[1, 2, 3, 6, 11, 17, 9, 7]\n",
      "[1, 2, 3, 6, 9, 17, 11, 7]\n",
      "[1, 2, 3, 6, 7, 17, 11, 9]\n",
      "[1, 2, 3, 6, 7, 11, 17, 9]\n",
      "[1, 2, 3, 6, 7, 9, 17, 11]\n",
      "[1, 2, 3, 6, 7, 9, 11, 17]\n"
     ]
    }
   ],
   "source": [
    "seq=[3,7,2,9,11,17,6,1]\n",
    "\n",
    "newSeq = []\n",
    "\n",
    "for i in range(0, len(seq)-1):\n",
    "    for k in range(i, len(seq)-1):\n",
    "        if seq[i] > seq[k+1]:\n",
    "            A = seq[i]\n",
    "            seq[i] = seq[k+1]\n",
    "            seq[k+1] = A\n",
    "        print(seq)      \n",
    "\n",
    "        \n",
    "        \n"
   ]
  },
  {
   "cell_type": "code",
   "execution_count": 32,
   "id": "77d98bd0",
   "metadata": {},
   "outputs": [
    {
     "name": "stdout",
     "output_type": "stream",
     "text": [
      "[3, 7, 2, 9, 11, 17, 6, 1]\n",
      "[3, 2, 7, 9, 11, 17, 6, 1]\n",
      "[3, 2, 7, 9, 11, 17, 6, 1]\n",
      "[3, 2, 7, 9, 11, 17, 6, 1]\n",
      "[3, 2, 7, 9, 11, 17, 6, 1]\n",
      "[3, 2, 7, 9, 11, 6, 17, 1]\n",
      "[3, 2, 7, 9, 11, 6, 1, 17]\n",
      "[2, 3, 7, 9, 11, 6, 1, 17]\n",
      "[2, 3, 7, 9, 11, 6, 1, 17]\n",
      "[2, 3, 7, 9, 11, 6, 1, 17]\n",
      "[2, 3, 7, 9, 11, 6, 1, 17]\n",
      "[2, 3, 7, 9, 6, 11, 1, 17]\n",
      "[2, 3, 7, 9, 6, 1, 11, 17]\n",
      "[2, 3, 7, 9, 6, 1, 11, 17]\n",
      "[2, 3, 7, 9, 6, 1, 11, 17]\n",
      "[2, 3, 7, 9, 6, 1, 11, 17]\n",
      "[2, 3, 7, 9, 6, 1, 11, 17]\n",
      "[2, 3, 7, 6, 9, 1, 11, 17]\n",
      "[2, 3, 7, 6, 1, 9, 11, 17]\n",
      "[2, 3, 7, 6, 1, 9, 11, 17]\n",
      "[2, 3, 7, 6, 1, 9, 11, 17]\n",
      "[2, 3, 7, 6, 1, 9, 11, 17]\n",
      "[2, 3, 7, 6, 1, 9, 11, 17]\n",
      "[2, 3, 6, 7, 1, 9, 11, 17]\n",
      "[2, 3, 6, 1, 7, 9, 11, 17]\n",
      "[2, 3, 6, 1, 7, 9, 11, 17]\n",
      "[2, 3, 6, 1, 7, 9, 11, 17]\n",
      "[2, 3, 6, 1, 7, 9, 11, 17]\n",
      "[2, 3, 6, 1, 7, 9, 11, 17]\n",
      "[2, 3, 6, 1, 7, 9, 11, 17]\n",
      "[2, 3, 1, 6, 7, 9, 11, 17]\n",
      "[2, 3, 1, 6, 7, 9, 11, 17]\n",
      "[2, 3, 1, 6, 7, 9, 11, 17]\n",
      "[2, 3, 1, 6, 7, 9, 11, 17]\n",
      "[2, 3, 1, 6, 7, 9, 11, 17]\n",
      "[2, 3, 1, 6, 7, 9, 11, 17]\n",
      "[2, 1, 3, 6, 7, 9, 11, 17]\n",
      "[2, 1, 3, 6, 7, 9, 11, 17]\n",
      "[2, 1, 3, 6, 7, 9, 11, 17]\n",
      "[2, 1, 3, 6, 7, 9, 11, 17]\n",
      "[2, 1, 3, 6, 7, 9, 11, 17]\n",
      "[2, 1, 3, 6, 7, 9, 11, 17]\n",
      "[1, 2, 3, 6, 7, 9, 11, 17]\n",
      "[1, 2, 3, 6, 7, 9, 11, 17]\n",
      "[1, 2, 3, 6, 7, 9, 11, 17]\n",
      "[1, 2, 3, 6, 7, 9, 11, 17]\n",
      "[1, 2, 3, 6, 7, 9, 11, 17]\n",
      "[1, 2, 3, 6, 7, 9, 11, 17]\n",
      "[1, 2, 3, 6, 7, 9, 11, 17]\n"
     ]
    }
   ],
   "source": [
    "seq=[3,7,2,9,11,17,6,1]\n",
    "\n",
    "newSeq = []\n",
    "\n",
    "for k in range(0, len(seq)-1):\n",
    "    for i in range(0, len(seq)-1):\n",
    "        if seq[i] > seq[i+1]:\n",
    "            A = seq[i]\n",
    "            seq[i] = seq[i+1]\n",
    "            seq[i+1] = A\n",
    "        print(seq)      \n"
   ]
  },
  {
   "cell_type": "code",
   "execution_count": 36,
   "id": "9a696740",
   "metadata": {},
   "outputs": [],
   "source": [
    "expected=[0,0,0,1,0,1,0,1,1,1,1,0,0,1,0,1,0,1,0,0,1,0,1,0,0]\n",
    "predicted=[1,1,1,1,1,1,1,1,1,1,1,1,1,1,1,1,1,1,1,1,1,1,1,1,1]\n",
    "\n",
    "#Calculate precision, recall, f1, score without using sklearn metrics."
   ]
  },
  {
   "cell_type": "code",
   "execution_count": 40,
   "id": "99ad381e",
   "metadata": {},
   "outputs": [
    {
     "name": "stdout",
     "output_type": "stream",
     "text": [
      "11\n"
     ]
    }
   ],
   "source": [
    "TP = 0\n",
    "\n",
    "for i in range(0, len(expected)-1):\n",
    "    if expected[i] == predicted[i] and expected[i] == 1:\n",
    "        TP = TP + 1\n",
    "print(TP)"
   ]
  },
  {
   "cell_type": "code",
   "execution_count": 41,
   "id": "bc497025",
   "metadata": {},
   "outputs": [
    {
     "name": "stdout",
     "output_type": "stream",
     "text": [
      "0\n"
     ]
    }
   ],
   "source": [
    "FN = 0\n",
    "\n",
    "for i in range(0, len(expected)-1):\n",
    "    if predicted[i] == 0 and expected[i] == 1:\n",
    "        FN = FN + 1\n",
    "print(FN)"
   ]
  },
  {
   "cell_type": "code",
   "execution_count": 42,
   "id": "1b9f9c2b",
   "metadata": {},
   "outputs": [
    {
     "name": "stdout",
     "output_type": "stream",
     "text": [
      "13\n"
     ]
    }
   ],
   "source": [
    "FP = 0\n",
    "\n",
    "for i in range(0, len(expected)-1):\n",
    "    if predicted[i] == 1 and expected[i] == 0:\n",
    "        FP = FP + 1\n",
    "print(FP)"
   ]
  },
  {
   "cell_type": "code",
   "execution_count": 43,
   "id": "34ff6b9f",
   "metadata": {},
   "outputs": [],
   "source": [
    "precision = 100 * TP / (TP + FP)\n",
    "recall = 100 * TP / (TP + FN)\n",
    "f_1 = 2 * precision * recall / (precision + recall)"
   ]
  },
  {
   "cell_type": "code",
   "execution_count": 52,
   "id": "530e00c5",
   "metadata": {},
   "outputs": [
    {
     "name": "stdout",
     "output_type": "stream",
     "text": [
      "precision= 45.833333333333336\n",
      "recall= 100.0\n",
      "f_1= 62.85714285714286\n"
     ]
    }
   ],
   "source": [
    "print(\"precision=\", precision)\n",
    "print(\"recall=\", recall)\n",
    "print(\"f_1=\", f_1)"
   ]
  },
  {
   "cell_type": "code",
   "execution_count": 64,
   "id": "119efa42",
   "metadata": {},
   "outputs": [],
   "source": [
    "def calculations(expected, predicted, metric):\n",
    "    TP = 0\n",
    "    FP = 0\n",
    "    FN = 0\n",
    "\n",
    "    for i in range(0, len(expected)-1):\n",
    "        if expected[i] == predicted[i] and expected[i] == 1:\n",
    "            TP = TP + 1\n",
    "        if predicted[i] == 0 and expected[i] == 1:\n",
    "            FN = FN + 1\n",
    "        if predicted[i] == 1 and expected[i] == 0:\n",
    "            FP = FP + 1\n",
    "\n",
    "    precision = 100 * TP / (TP + FP)\n",
    "    recall = 100 * TP / (TP + FN)\n",
    "    f_1 = 2 * precision * recall / (precision + recall)\n",
    "\n",
    "    if metric == \"precision\":\n",
    "        print(precision)\n",
    "    elif metric == \"recall\":\n",
    "        print(recall)\n",
    "    elif metric == \"f_1\":\n",
    "        print(f_1)\n",
    "    "
   ]
  },
  {
   "cell_type": "code",
   "execution_count": 65,
   "id": "22c0c590",
   "metadata": {},
   "outputs": [
    {
     "name": "stdout",
     "output_type": "stream",
     "text": [
      "45.833333333333336\n"
     ]
    }
   ],
   "source": [
    "calculations(expected, predicted, \"precision\")"
   ]
  },
  {
   "cell_type": "code",
   "execution_count": 66,
   "id": "9b50d175",
   "metadata": {},
   "outputs": [],
   "source": [
    "#Step 1:\n",
    "# Write a function that performs matrix multiplication.\n",
    "# Inputs: Matrix 1, Matrix 2\n",
    "# Output Matrix 1 x Matrix 2\n",
    "# Check if inputs satisfies conditions to perform multiplication.\n",
    "\n",
    "#Step 2:\n",
    "# Write a function that calculates eigenvalues and eigenvectors.\n",
    "\n",
    "#Step 3:\n",
    "# Write a function that checks if given matrix is diagonalizable.\n",
    "\n",
    "#Step 4:\n",
    "# Write a function that finds diagonalize matrix of given matrix if if the function in step 3 returns True."
   ]
  },
  {
   "cell_type": "code",
   "execution_count": 74,
   "id": "df4856d7",
   "metadata": {},
   "outputs": [
    {
     "data": {
      "text/plain": [
       "2"
      ]
     },
     "execution_count": 74,
     "metadata": {},
     "output_type": "execute_result"
    }
   ],
   "source": [
    "matrix_1 = [[1 ,2, 3],\n",
    "            [7, 8, 9]]\n",
    "\n",
    "matrix_1[1][2]\n",
    "len(matrix_1)"
   ]
  },
  {
   "cell_type": "code",
   "execution_count": 75,
   "id": "6afd8d0b",
   "metadata": {},
   "outputs": [],
   "source": [
    "def matrixChecking(matrix):\n",
    "    for i in range(0, len(matrix):\n",
    "        if len(matrix[i]) != len(matrix[i+1]):\n",
    "            print(\"columns of the matrix have not the same size!\")\n",
    "            return False\n",
    "    return True\n",
    "\n",
    "def matrixMultiplication(matrix_1, matrix_2):\n",
    "    if matrixChecking(matrix_1) and matrixChecking(matrix_2):\n",
    "        if len(matrix_1[0]) != len(matrix_2):\n",
    "            print(\"matrix_1 should have same number of columns with rows of matrix_2!\")\n",
    "            return False\n",
    "        else:\n",
    "            for i in range():\n",
    "                for k in range():\n",
    "                   "
   ]
  },
  {
   "cell_type": "code",
   "execution_count": 78,
   "id": "f40cb523",
   "metadata": {},
   "outputs": [
    {
     "name": "stdout",
     "output_type": "stream",
     "text": [
      "yeah\n"
     ]
    }
   ],
   "source": [
    "matrix_z1 = [[1 ,2, 3],\n",
    "            [7, 8, 9]]\n",
    "matrix_z2 = [[1 ,2, 3],\n",
    "            [7, 8, 9,4],\n",
    "             [1 ,2, 3]\n",
    "            ]\n",
    "matrixMultiplication(matrix_z1,matrix_z2)"
   ]
  }
 ],
 "metadata": {
  "kernelspec": {
   "display_name": "Python 3 (ipykernel)",
   "language": "python",
   "name": "python3"
  },
  "language_info": {
   "codemirror_mode": {
    "name": "ipython",
    "version": 3
   },
   "file_extension": ".py",
   "mimetype": "text/x-python",
   "name": "python",
   "nbconvert_exporter": "python",
   "pygments_lexer": "ipython3",
   "version": "3.9.13"
  }
 },
 "nbformat": 4,
 "nbformat_minor": 5
}
